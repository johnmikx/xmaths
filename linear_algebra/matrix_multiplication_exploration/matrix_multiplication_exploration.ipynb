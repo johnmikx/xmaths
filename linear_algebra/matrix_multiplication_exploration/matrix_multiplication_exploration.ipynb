{
  "nbformat": 4,
  "nbformat_minor": 0,
  "metadata": {
    "colab": {
      "provenance": []
    },
    "kernelspec": {
      "name": "python3",
      "display_name": "Python 3"
    },
    "language_info": {
      "name": "python"
    }
  },
  "cells": [
    {
      "cell_type": "code",
      "execution_count": null,
      "metadata": {
        "id": "x97AwULQKn28"
      },
      "outputs": [],
      "source": [
        "import numpy as np"
      ]
    },
    {
      "cell_type": "code",
      "source": [
        "# Define Matrices X and Y\n",
        "X = np.array([[3, 2],\n",
        "              [-2, 1]])\n",
        "\n",
        "Y = np.array([[5],\n",
        "              [7]])"
      ],
      "metadata": {
        "id": "elUcogFGMlDB"
      },
      "execution_count": null,
      "outputs": []
    },
    {
      "cell_type": "code",
      "source": [
        "# Compute XY\n",
        "XY = X @ Y\n",
        "XY"
      ],
      "metadata": {
        "colab": {
          "base_uri": "https://localhost:8080/"
        },
        "id": "-KciGu_MNV6G",
        "outputId": "858fbe69-d42c-4f85-c9bd-c074c70ce5a9"
      },
      "execution_count": null,
      "outputs": [
        {
          "output_type": "execute_result",
          "data": {
            "text/plain": [
              "array([[29],\n",
              "       [-3]])"
            ]
          },
          "metadata": {},
          "execution_count": 21
        }
      ]
    },
    {
      "cell_type": "code",
      "source": [
        "# Define Matrices X and Y\n",
        "X = np.array([[1, 1],\n",
        "              [0, 1]])\n",
        "\n",
        "Y = np.array([[0, -1],\n",
        "              [1, 0]])"
      ],
      "metadata": {
        "id": "XeNpOH4CQJof"
      },
      "execution_count": null,
      "outputs": []
    },
    {
      "cell_type": "code",
      "source": [
        "# Compute XY\n",
        "XY = X @ Y\n",
        "XY"
      ],
      "metadata": {
        "colab": {
          "base_uri": "https://localhost:8080/"
        },
        "id": "FVG6jpmIQuQE",
        "outputId": "08f4ac5e-e761-49dd-ff80-527dca897487"
      },
      "execution_count": null,
      "outputs": [
        {
          "output_type": "execute_result",
          "data": {
            "text/plain": [
              "array([[ 1, -1],\n",
              "       [ 1,  0]])"
            ]
          },
          "metadata": {},
          "execution_count": 23
        }
      ]
    },
    {
      "cell_type": "code",
      "source": [
        "# Define Matrices X and Y\n",
        "X = np.array([[0, 2],\n",
        "              [1, 0]])\n",
        "\n",
        "Y = np.array([[1, -2],\n",
        "              [1, 0]])"
      ],
      "metadata": {
        "id": "EYHGXIdpR9wT"
      },
      "execution_count": null,
      "outputs": []
    },
    {
      "cell_type": "code",
      "source": [
        "# Compute XY\n",
        "XY = X @ Y\n",
        "XY"
      ],
      "metadata": {
        "colab": {
          "base_uri": "https://localhost:8080/"
        },
        "id": "JjvMUrJeSTR0",
        "outputId": "b1a830b1-8f8f-41fd-c530-028c8a03ecfb"
      },
      "execution_count": null,
      "outputs": [
        {
          "output_type": "execute_result",
          "data": {
            "text/plain": [
              "array([[ 2,  0],\n",
              "       [ 1, -2]])"
            ]
          },
          "metadata": {},
          "execution_count": 29
        }
      ]
    },
    {
      "cell_type": "code",
      "source": [
        "# Define Matrices X and Y\n",
        "X = np.array([[-3, 1],\n",
        "              [2, 5]])\n",
        "\n",
        "Y = np.array([[5, 3],\n",
        "              [7, -3]])"
      ],
      "metadata": {
        "id": "oJlhnfc2T9TI"
      },
      "execution_count": null,
      "outputs": []
    },
    {
      "cell_type": "code",
      "source": [
        "XY = X @ Y\n",
        "XY"
      ],
      "metadata": {
        "colab": {
          "base_uri": "https://localhost:8080/"
        },
        "id": "xE9pGKvrUQi8",
        "outputId": "4bfef9d1-7f42-418a-b791-3b5d8a18cb95"
      },
      "execution_count": null,
      "outputs": [
        {
          "output_type": "execute_result",
          "data": {
            "text/plain": [
              "array([[ -8, -12],\n",
              "       [ 45,  -9]])"
            ]
          },
          "metadata": {},
          "execution_count": 31
        }
      ]
    },
    {
      "cell_type": "code",
      "source": [
        "# Define Two 3x3 Matrices\n",
        "X = np.array([[0, -2, 2],\n",
        "              [5, 1, 5],\n",
        "              [1, 4, -1]])\n",
        "\n",
        "Y = np.array([[0, 1, 2],\n",
        "              [3, 4, 5],\n",
        "              [6, 7, 8]])"
      ],
      "metadata": {
        "id": "SGtqISDsuX74"
      },
      "execution_count": null,
      "outputs": []
    },
    {
      "cell_type": "code",
      "source": [
        "XY = X @ Y\n",
        "XY"
      ],
      "metadata": {
        "colab": {
          "base_uri": "https://localhost:8080/"
        },
        "id": "rrbpKVZ4wXWz",
        "outputId": "12b56030-dd34-4ddd-9be5-838c953b3fff"
      },
      "execution_count": null,
      "outputs": [
        {
          "output_type": "execute_result",
          "data": {
            "text/plain": [
              "array([[ 6,  6,  6],\n",
              "       [33, 44, 55],\n",
              "       [ 6, 10, 14]])"
            ]
          },
          "metadata": {},
          "execution_count": 8
        }
      ]
    },
    {
      "cell_type": "code",
      "source": [
        "# Define Two 3x3 Matrices\n",
        "X = np.array([[1, 2, 3],\n",
        "              [4, 5, 6],\n",
        "              [7, 8, 9]])\n",
        "\n",
        "Y = np.array([[9, 8, 7],\n",
        "              [6, 5, 4],\n",
        "              [3, 2, 1]])"
      ],
      "metadata": {
        "id": "JQU-iel7yg-m"
      },
      "execution_count": null,
      "outputs": []
    },
    {
      "cell_type": "code",
      "source": [
        "XY = X @ Y\n",
        "XY"
      ],
      "metadata": {
        "colab": {
          "base_uri": "https://localhost:8080/"
        },
        "id": "Tb3e6kFQy4DV",
        "outputId": "ad82a774-4f8a-4e6d-8832-9c108c30da98"
      },
      "execution_count": null,
      "outputs": [
        {
          "output_type": "execute_result",
          "data": {
            "text/plain": [
              "array([[ 30,  24,  18],\n",
              "       [ 84,  69,  54],\n",
              "       [138, 114,  90]])"
            ]
          },
          "metadata": {},
          "execution_count": 10
        }
      ]
    },
    {
      "cell_type": "code",
      "source": [
        "# Define Two 3x3 Matrices\n",
        "X = np.array([[1, 2, 3],\n",
        "              [4, 5, 6],\n",
        "              [7, 8, 9]])\n",
        "\n",
        "Y = np.array([[1, 2, 3],\n",
        "              [4, 5, 6],\n",
        "              [7, 8, 9]])"
      ],
      "metadata": {
        "id": "P_0UC1-yy_Eg"
      },
      "execution_count": null,
      "outputs": []
    },
    {
      "cell_type": "code",
      "source": [
        "XY = X @ Y\n",
        "XY"
      ],
      "metadata": {
        "id": "Y8Pfu_SkzD16",
        "outputId": "1824326b-7d31-4c47-e8c5-7bc1f0839300",
        "colab": {
          "base_uri": "https://localhost:8080/"
        }
      },
      "execution_count": null,
      "outputs": [
        {
          "output_type": "execute_result",
          "data": {
            "text/plain": [
              "array([[ 30,  36,  42],\n",
              "       [ 66,  81,  96],\n",
              "       [102, 126, 150]])"
            ]
          },
          "metadata": {},
          "execution_count": 12
        }
      ]
    },
    {
      "cell_type": "code",
      "source": [
        "# Define Matrices A and B\n",
        "A = np.array([[1, 4, -2],\n",
        "              [3, 5, -6]])\n",
        "\n",
        "B = np.array([[5, 2, 8, -1],\n",
        "              [3, 6, 4, 5],\n",
        "              [-2, 9, 7, -3]])"
      ],
      "metadata": {
        "id": "l_n01RG8KzsQ"
      },
      "execution_count": null,
      "outputs": []
    },
    {
      "cell_type": "code",
      "source": [
        "# Compute AB\n",
        "AB = A @ B\n",
        "AB"
      ],
      "metadata": {
        "colab": {
          "base_uri": "https://localhost:8080/"
        },
        "id": "fDQ1FahvLRp2",
        "outputId": "26c5f1fe-c74b-4b14-fef7-a1e605e492c1"
      },
      "execution_count": null,
      "outputs": [
        {
          "output_type": "execute_result",
          "data": {
            "text/plain": [
              "array([[ 21,   8,  10,  25],\n",
              "       [ 42, -18,   2,  40]])"
            ]
          },
          "metadata": {},
          "execution_count": 25
        }
      ]
    },
    {
      "cell_type": "code",
      "source": [
        "# Compute BA\n",
        "# BA = B @ A\n",
        "# BA\n",
        "\n",
        "# ValueError: matmul: Input operand 1 has a mismatch in its core dimension 0, with gufunc signature (n?,k),(k,m?)->(n?,m?) (size 2 is different from 4)\n",
        "# Matrix multiplication BA is not defined due to incompatible dimensions."
      ],
      "metadata": {
        "id": "PWJ9k4SmL428"
      },
      "execution_count": null,
      "outputs": []
    },
    {
      "cell_type": "code",
      "source": [
        "# Define Two 3x3 Matrices\n",
        "R = np.array([[1, 0, 1],\n",
        "              [1, 1, 0],\n",
        "              [0, 0, 0]])\n",
        "\n",
        "S = np.array([[0, 1, 0],\n",
        "              [0, 0, 1],\n",
        "              [1, 0, 1]])"
      ],
      "metadata": {
        "id": "5uwmNAuz5QHu"
      },
      "execution_count": null,
      "outputs": []
    },
    {
      "cell_type": "code",
      "source": [
        "SoR = R @ S\n",
        "SoR"
      ],
      "metadata": {
        "colab": {
          "base_uri": "https://localhost:8080/"
        },
        "id": "YHr-A1Xo5Zom",
        "outputId": "0edb00c6-d242-4ecb-f58d-e697ccc58340"
      },
      "execution_count": null,
      "outputs": [
        {
          "output_type": "execute_result",
          "data": {
            "text/plain": [
              "array([[1, 1, 1],\n",
              "       [0, 1, 1],\n",
              "       [0, 0, 0]])"
            ]
          },
          "metadata": {},
          "execution_count": 7
        }
      ]
    },
    {
      "cell_type": "code",
      "source": [
        "RoS = S @ R\n",
        "RoS"
      ],
      "metadata": {
        "id": "_gCH2P_c6d5k",
        "outputId": "500887ab-0226-4959-ad8a-1cf899ab9b0c",
        "colab": {
          "base_uri": "https://localhost:8080/"
        }
      },
      "execution_count": null,
      "outputs": [
        {
          "output_type": "execute_result",
          "data": {
            "text/plain": [
              "array([[1, 1, 0],\n",
              "       [0, 0, 0],\n",
              "       [1, 0, 1]])"
            ]
          },
          "metadata": {},
          "execution_count": 8
        }
      ]
    }
  ]
}