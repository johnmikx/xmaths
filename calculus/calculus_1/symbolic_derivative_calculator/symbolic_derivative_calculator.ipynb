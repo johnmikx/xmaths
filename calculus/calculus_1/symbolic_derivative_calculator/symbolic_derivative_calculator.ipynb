{
  "nbformat": 4,
  "nbformat_minor": 0,
  "metadata": {
    "colab": {
      "provenance": [],
      "toc_visible": true
    },
    "kernelspec": {
      "name": "python3",
      "display_name": "Python 3"
    },
    "language_info": {
      "name": "python"
    }
  },
  "cells": [
    {
      "cell_type": "code",
      "source": [
        "import sympy as sp"
      ],
      "metadata": {
        "id": "aGnFN8awaBcp"
      },
      "execution_count": 21,
      "outputs": []
    },
    {
      "cell_type": "code",
      "source": [
        "x = sp.Symbol('x')\n",
        "\n",
        "function = input(\"Enter the function: \")\n",
        "\n",
        "sp.Derivative(function, x)"
      ],
      "metadata": {
        "colab": {
          "base_uri": "https://localhost:8080/",
          "height": 69
        },
        "id": "gisQtThSbVBX",
        "outputId": "53361d73-bbc8-4f13-90d8-9bae4fabd57b"
      },
      "execution_count": 23,
      "outputs": [
        {
          "name": "stdout",
          "output_type": "stream",
          "text": [
            "Enter the function: csc(x)\n"
          ]
        },
        {
          "output_type": "execute_result",
          "data": {
            "text/plain": [
              "Derivative(csc(x), x)"
            ],
            "text/latex": "$\\displaystyle \\frac{d}{d x} \\csc{\\left(x \\right)}$"
          },
          "metadata": {},
          "execution_count": 23
        }
      ]
    },
    {
      "cell_type": "code",
      "source": [
        "sp.Derivative(function, x, evaluate=True)"
      ],
      "metadata": {
        "colab": {
          "base_uri": "https://localhost:8080/",
          "height": 38
        },
        "id": "Qu5boxsIdods",
        "outputId": "10f952c7-c0aa-4852-d7f5-3134c8eb2648"
      },
      "execution_count": 24,
      "outputs": [
        {
          "output_type": "execute_result",
          "data": {
            "text/plain": [
              "-cot(x)*csc(x)"
            ],
            "text/latex": "$\\displaystyle - \\cot{\\left(x \\right)} \\csc{\\left(x \\right)}$"
          },
          "metadata": {},
          "execution_count": 24
        }
      ]
    }
  ]
}