{
  "nbformat": 4,
  "nbformat_minor": 0,
  "metadata": {
    "colab": {
      "provenance": []
    },
    "kernelspec": {
      "name": "python3",
      "display_name": "Python 3"
    },
    "language_info": {
      "name": "python"
    }
  },
  "cells": [
    {
      "cell_type": "code",
      "execution_count": 1,
      "metadata": {
        "id": "qy4n50XRDXqV"
      },
      "outputs": [],
      "source": [
        "import sympy as sp"
      ]
    },
    {
      "cell_type": "code",
      "source": [
        "x = sp.Symbol('x')\n",
        "\n",
        "function = input(\"Enter the function: \")\n",
        "\n",
        "sp.Integral(function, x)"
      ],
      "metadata": {
        "colab": {
          "base_uri": "https://localhost:8080/",
          "height": 72
        },
        "id": "zqvWneaQDaYe",
        "outputId": "77de5db9-0ea9-4078-ff42-257133454927"
      },
      "execution_count": 3,
      "outputs": [
        {
          "name": "stdout",
          "output_type": "stream",
          "text": [
            "Enter the function: -csc(x) * cot(x)\n"
          ]
        },
        {
          "output_type": "execute_result",
          "data": {
            "text/plain": [
              "Integral(-cot(x)*csc(x), x)"
            ],
            "text/latex": "$\\displaystyle \\int \\left(- \\cot{\\left(x \\right)} \\csc{\\left(x \\right)}\\right)\\, dx$"
          },
          "metadata": {},
          "execution_count": 3
        }
      ]
    },
    {
      "cell_type": "code",
      "source": [
        "sp.Integral(function, x).doit()"
      ],
      "metadata": {
        "colab": {
          "base_uri": "https://localhost:8080/",
          "height": 55
        },
        "id": "q6fDUxK1Dpzj",
        "outputId": "02f29c30-7d8a-4a07-f3b7-82460aa301dd"
      },
      "execution_count": 9,
      "outputs": [
        {
          "output_type": "execute_result",
          "data": {
            "text/plain": [
              "1/sin(x)"
            ],
            "text/latex": "$\\displaystyle \\frac{1}{\\sin{\\left(x \\right)}}$"
          },
          "metadata": {},
          "execution_count": 9
        }
      ]
    }
  ]
}